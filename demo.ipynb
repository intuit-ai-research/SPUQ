{
 "cells": [
  {
   "cell_type": "markdown",
   "metadata": {},
   "source": [
    "# SPUQ: Perturbation-Based Uncertainty Quantification for Large Language Models\n",
    "\n",
    "SPUQ is a LLM uncertainty calibration algorithm. It provides a confidence score for each query for a given LLM.\n",
    "Experiments show that this confidence score is correlated with the generation accuracy, therefore provide a useful metric on-the-fly.\n",
    "\n",
    "The details are documented in our [paper](https://arxiv.org/abs/2403.02509) published at EACL-2024 Conference.\n",
    "\n",
    "The basic idea is to check whether a LLM provides a significantly different answer when we ask the same question in a slightly different way.\n",
    "If it does, we assume the LLM is not confident in this case.\n",
    "It perturbs the input (including the prompt and the temperature) to get multiple outputs, and then aggregate the outputs to obtain the final confidence score.\n",
    "This allows SPUQ to address both epistemic (via perturbation) and aleatoric uncertainties (via sampling), and it provides better calibration than a few existing methods."
   ]
  },
  {
   "cell_type": "markdown",
   "metadata": {},
   "source": [
    "### Set up SPUQ\n",
    "\n",
    "Here's an example to set up SPUQ. The config includes:\n",
    "* The target LLM you'd like to calibrate. We use `gpt-35-turbo-v0301` as an example\n",
    "* The perturbation method. You can choose from the following:\n",
    "    * `paraphrasing`: The prompt is perturbed by being paraphrased using ChatGPT (3.5).\n",
    "    * `system_message`: The prompt is perturbed by inserting a random system message.\n",
    "    * `dummy_token`: The prompt is perturbed by inserting a random dummy token.\n",
    "    * `temperature`: The temperature is perturbed with a random change.\n",
    "* The aggregation method. You can choose from the following:\n",
    "    * Measuring text similarity among the outputs. This can be done using the Rouge score (`rouge1`, `rouge2`, or `rougeL`), sentence-BERT embedding cosine similarity (`sbert`) or BERT-Score (`bertscore`)\n",
    "    * or measured by asking LLM to verbalize the confidence (`verbalized_word` or `verbalized_num`)\n",
    "* The number of perturbed variants. Usually up to 5."
   ]
  },
  {
   "cell_type": "code",
   "execution_count": 1,
   "metadata": {},
   "outputs": [
    {
     "name": "stderr",
     "output_type": "stream",
     "text": [
      "/Users/xgao2/miniconda3/envs/spuq/lib/python3.11/site-packages/tqdm/auto.py:21: TqdmWarning: IProgress not found. Please update jupyter and ipywidgets. See https://ipywidgets.readthedocs.io/en/stable/user_install.html\n",
      "  from .autonotebook import tqdm as notebook_tqdm\n"
     ]
    }
   ],
   "source": [
    "from spuq import SPUQ\n",
    "from llms import LLM\n",
    "\n",
    "llm = LLM('gpt-35-turbo-v0301')\n",
    "spuq = SPUQ(llm=llm, perturbation='paraphrasing', aggregation='rougeL', n_perturb=5)"
   ]
  },
  {
   "cell_type": "markdown",
   "metadata": {},
   "source": [
    "### A low-confidence example\n",
    "\n",
    "In the example below, SPUQ is able to detect that LLM is not certain about the question \"Will Jay-Z reach the age of 60 before Kendrick Lamar?\".\n",
    "By paraphrasing the question to several versions, SPUQ trigger LLM to output contradicting outputs. As a result, the final confidence score is low (~0.256)"
   ]
  },
  {
   "cell_type": "code",
   "execution_count": 2,
   "metadata": {},
   "outputs": [
    {
     "data": {
      "text/plain": [
       "{'perturbed': [([{'role': 'user',\n",
       "     'content': 'Is Kendrick Lamar going to turn 60 before Jay-Z?'}],\n",
       "   0.7),\n",
       "  ([{'role': 'user',\n",
       "     'content': 'Who will turn 60 first, Jay-Z or Kendrick Lamar?'}],\n",
       "   0.7),\n",
       "  ([{'role': 'user',\n",
       "     'content': 'Before reaching the age of 60, will Jay-Z be older than Kendrick Lamar?'}],\n",
       "   0.7),\n",
       "  ([{'role': 'user', 'content': 'Will Kendrick Lamar hit 60 after Jay-Z?'}],\n",
       "   0.7),\n",
       "  ([{'role': 'user',\n",
       "     'content': 'Which of the two, Jay-Z or Kendrick Lamar, will turn 60 later?'}],\n",
       "   0.7)],\n",
       " 'outputs': ['No, Kendrick Lamar was born in 1987 and Jay-Z was born in 1969, so Jay-Z will turn 60 before Kendrick Lamar.',\n",
       "  'Jay-Z will turn 60 first. He was born on December 4, 1969, while Kendrick Lamar was born on June 17, 1987.',\n",
       "  'Yes, Jay-Z is already older than Kendrick Lamar. Jay-Z was born on December 4, 1969, while Kendrick Lamar was born on June 17, 1987.',\n",
       "  \"I'm sorry, as an AI language model, I cannot predict the future.\",\n",
       "  'Jay-Z will turn 60 later.'],\n",
       " 'confidence': 0.25582140902337946}"
      ]
     },
     "execution_count": 2,
     "metadata": {},
     "output_type": "execute_result"
    }
   ],
   "source": [
    "question = 'Will Jay-Z reach the age of 60 before Kendrick Lamar?'\n",
    "messages = [{'role': 'user', 'content': question}]\n",
    "spuq.run(messages, temperature=0.7)"
   ]
  },
  {
   "cell_type": "markdown",
   "metadata": {},
   "source": [
    "### A high-confidence example\n",
    "\n",
    "In the example below, SPUQ is able to detect that LLM is much more certain about another question \"Is 100 greater than 3?\".\n",
    "Even after perturbation, the LLM outputs are similar to each other, and as a result, the confidence score is relatively high (~0.538)"
   ]
  },
  {
   "cell_type": "code",
   "execution_count": 4,
   "metadata": {},
   "outputs": [
    {
     "data": {
      "text/plain": [
       "{'perturbed': [([{'role': 'user', 'content': 'Does 3 fall short of 100?'}],\n",
       "   0.7),\n",
       "  ([{'role': 'user', 'content': 'Is 3 less than 100?'}], 0.7),\n",
       "  ([{'role': 'user', 'content': 'Is the number 100 bigger than 3?'}], 0.7),\n",
       "  ([{'role': 'user', 'content': 'Would 100 be considered greater than 3?'}],\n",
       "   0.7),\n",
       "  ([{'role': 'user', 'content': 'Does 100 exceed 3 in value?'}], 0.7)],\n",
       " 'outputs': ['Yes, 3 is much less than 100.',\n",
       "  'Yes, 3 is less than 100.',\n",
       "  'Yes, 100 is bigger than 3.',\n",
       "  'Yes, 100 is greater than 3.',\n",
       "  'Yes, 100 exceeds 3 in value.'],\n",
       " 'confidence': 0.5384615384615384}"
      ]
     },
     "execution_count": 4,
     "metadata": {},
     "output_type": "execute_result"
    }
   ],
   "source": [
    "question = 'Is 100 greater than 3?'\n",
    "messages = [{'role': 'user', 'content': question}]\n",
    "spuq.run(messages, temperature=0.7)"
   ]
  }
 ],
 "metadata": {
  "kernelspec": {
   "display_name": "fewshot",
   "language": "python",
   "name": "python3"
  },
  "language_info": {
   "codemirror_mode": {
    "name": "ipython",
    "version": 3
   },
   "file_extension": ".py",
   "mimetype": "text/x-python",
   "name": "python",
   "nbconvert_exporter": "python",
   "pygments_lexer": "ipython3",
   "version": "3.11.9"
  }
 },
 "nbformat": 4,
 "nbformat_minor": 2
}
